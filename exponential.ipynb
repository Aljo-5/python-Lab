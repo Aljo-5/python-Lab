{
  "nbformat": 4,
  "nbformat_minor": 0,
  "metadata": {
    "colab": {
      "provenance": []
    },
    "kernelspec": {
      "name": "python3",
      "display_name": "Python 3"
    },
    "language_info": {
      "name": "python"
    }
  },
  "cells": [
    {
      "cell_type": "code",
      "execution_count": 1,
      "metadata": {
        "colab": {
          "base_uri": "https://localhost:8080/"
        },
        "id": "Hs-omDTbaxnR",
        "outputId": "e6c835b7-fe15-46d2-f059-03dd1a9d7ec5"
      },
      "outputs": [
        {
          "output_type": "stream",
          "name": "stdout",
          "text": [
            "Enter x: 1\n",
            "Enter n: 25\n",
            "2.7182818284590455\n"
          ]
        }
      ],
      "source": [
        "x=int(input(\"Enter x: \"))\n",
        "n=int(input(\"Enter n: \"))\n",
        "s=1\n",
        "def fact(n):\n",
        "  f=1\n",
        "  for i in range(1,n+1):\n",
        "    f=f*i\n",
        "  return(f)\n",
        "for i in range(1,n):\n",
        "  s=s+(x**i)/(fact(i))\n",
        "print(s)      "
      ]
    }
  ]
}