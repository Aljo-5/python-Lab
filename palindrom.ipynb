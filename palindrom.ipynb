{
  "nbformat": 4,
  "nbformat_minor": 0,
  "metadata": {
    "colab": {
      "provenance": []
    },
    "kernelspec": {
      "name": "python3",
      "display_name": "Python 3"
    },
    "language_info": {
      "name": "python"
    }
  },
  "cells": [
    {
      "cell_type": "code",
      "execution_count": 1,
      "metadata": {
        "colab": {
          "base_uri": "https://localhost:8080/"
        },
        "id": "HAFZyJ5lZruQ",
        "outputId": "8191c051-a2ec-4fa6-d88a-1ac381a47463"
      },
      "outputs": [
        {
          "output_type": "stream",
          "name": "stdout",
          "text": [
            "Enter the number: 101\n",
            "Reverse is 101\n",
            "Number is palindrom\n"
          ]
        }
      ],
      "source": [
        "def palindrom(n):\n",
        "  s=0\n",
        "  temp=n\n",
        "  while(n>0):\n",
        "    r=n%10\n",
        "    s=s*10+r\n",
        "    n=n//10\n",
        "  print(\"Reverse is\",s)\n",
        "  if(temp==s):\n",
        "    print(\"Number is palindrom\")\n",
        "  else:\n",
        "    print(\"Number is not palindrom\")\n",
        "f=int(input(\"Enter the number: \"))\n",
        "palindrom(f)        "
      ]
    }
  ]
}