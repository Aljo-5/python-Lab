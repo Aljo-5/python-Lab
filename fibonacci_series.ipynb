{
  "nbformat": 4,
  "nbformat_minor": 0,
  "metadata": {
    "colab": {
      "provenance": []
    },
    "kernelspec": {
      "name": "python3",
      "display_name": "Python 3"
    },
    "language_info": {
      "name": "python"
    }
  },
  "cells": [
    {
      "cell_type": "code",
      "execution_count": 7,
      "metadata": {
        "colab": {
          "base_uri": "https://localhost:8080/"
        },
        "id": "YtFt3I3UVNAT",
        "outputId": "28f3832b-4f53-4d8a-a275-6f4aa450d11b"
      },
      "outputs": [
        {
          "output_type": "stream",
          "name": "stdout",
          "text": [
            "How many terms? 5\n",
            "Fibonacci sequence:\n",
            "0\n",
            "1\n",
            "1\n",
            "2\n",
            "3\n"
          ]
        }
      ],
      "source": [
        "def fibo(n):\n",
        "    \n",
        "\n",
        "\n",
        "    n1, n2 = 0, 1\n",
        "    count = 0\n",
        "\n",
        "\n",
        "    if nterms <= 0:\n",
        "       print(\"Please enter a positive integer\")\n",
        "\n",
        "    elif nterms == 1:\n",
        "       print(\"Fibonacci sequence upto\",nterms,\":\")\n",
        "       print(n1)\n",
        "\n",
        "    else:\n",
        "       print(\"Fibonacci sequence:\")\n",
        "       while count < nterms:\n",
        "           print(n1)\n",
        "           nth = n1 + n2\n",
        "       \n",
        "           n1 = n2\n",
        "           n2 = nth\n",
        "           count += 1\n",
        "nterms = int(input(\"How many terms? \"))\n",
        "fibo(nterms)        "
      ]
    }
  ]
}